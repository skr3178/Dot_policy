{
 "cells": [
  {
   "cell_type": "code",
   "id": "initial_id",
   "metadata": {
    "collapsed": true,
    "ExecuteTime": {
     "end_time": "2025-08-18T08:58:24.019794Z",
     "start_time": "2025-08-18T08:58:16.140068Z"
    }
   },
   "source": [
    "import torch\n",
    "import numpy as np\n",
    "torch.manual_seed(0)\n",
    "\n",
    "# Dimensions\n",
    "n, m = 10, 10  # n: input dimension, m: output dimension\n",
    "\n",
    "#------------------------\n",
    "# ignore this part of code I just made it make a rank deficient matrix\n",
    "# it is highly probable that the W matrix will be a rank 2 through this process\n",
    "nr,mr= 10, 2\n",
    "W = torch.randn(nr,mr)@torch.randn(mr,nr)\n",
    "# ----------------------\n",
    "print(\"See how W looks like:\\n\",W)"
   ],
   "outputs": [
    {
     "name": "stdout",
     "output_type": "stream",
     "text": [
      "See how W looks like:\n",
      " tensor([[-1.0797,  0.5545,  0.8058, -0.7140, -0.1518,  1.0773,  2.3690,  0.8486,\n",
      "         -1.1825, -3.2632],\n",
      "        [-0.3303,  0.2283,  0.4145, -0.1924, -0.0215,  0.3276,  0.7926,  0.2233,\n",
      "         -0.3422, -0.9614],\n",
      "        [-0.5256,  0.9864,  2.4447, -0.0290,  0.2305,  0.5000,  1.9831, -0.0311,\n",
      "         -0.3369, -1.1376],\n",
      "        [ 0.7900, -1.1336, -2.6746,  0.1988, -0.1982, -0.7634, -2.5763, -0.1696,\n",
      "          0.6227,  1.9294],\n",
      "        [ 0.1258,  0.1458,  0.5090,  0.1768,  0.1071, -0.1327, -0.0323, -0.2294,\n",
      "          0.2079,  0.5128],\n",
      "        [ 0.7697,  0.0050,  0.5725,  0.6870,  0.2783, -0.7818, -1.2253, -0.8533,\n",
      "          0.9765,  2.5786],\n",
      "        [ 1.4157, -0.7814, -1.2121,  0.9120,  0.1760, -1.4108, -3.1692, -1.0791,\n",
      "          1.5325,  4.2447],\n",
      "        [-0.0119,  0.6050,  1.7245,  0.2584,  0.2528, -0.0086,  0.7198, -0.3620,\n",
      "          0.1865,  0.3410],\n",
      "        [ 1.0485, -0.6394, -1.0715,  0.6485,  0.1046, -1.0427, -2.4174, -0.7615,\n",
      "          1.1147,  3.1054],\n",
      "        [ 0.9088,  0.1936,  1.2136,  0.8946,  0.4084, -0.9295, -1.2294, -1.1239,\n",
      "          1.2155,  3.1628]])\n"
     ]
    }
   ],
   "execution_count": 1
  },
  {
   "metadata": {
    "ExecuteTime": {
     "end_time": "2025-08-18T09:03:28.898721Z",
     "start_time": "2025-08-18T09:03:28.880626Z"
    }
   },
   "cell_type": "code",
   "source": [
    "\n",
    "b = torch.randn(n)\n",
    "\n",
    "\n",
    "r= np.linalg.matrix_rank(W)\n",
    "print(\"Rank of W:\", r)\n",
    "# Random input x\n",
    "x = torch.randn(n)\n",
    "\n",
    "# Compute y = Wx + b\n",
    "y = W@ x + b\n",
    "\n"
   ],
   "id": "b6821bca428b9e2c",
   "outputs": [
    {
     "name": "stdout",
     "output_type": "stream",
     "text": [
      "Rank of W: 2\n"
     ]
    }
   ],
   "execution_count": 2
  },
  {
   "metadata": {
    "ExecuteTime": {
     "end_time": "2025-08-18T09:05:41.486710Z",
     "start_time": "2025-08-18T09:05:41.478239Z"
    }
   },
   "cell_type": "code",
   "source": [
    "#--------------------------------\n",
    "# this is just to exact rank factorization, it can be ignored sfely\n",
    "\n",
    "# Perform SVD on W #\n",
    "U, S, V = torch.svd(W)\n",
    "\n",
    "# For rank-r factorization, keep only the first r singular values (and corresponding columns of U and V)\n",
    "U_r = U[:, :r]\n",
    "S_r = torch.diag(S[:r])\n",
    "V_r = V[:, :r].t()  # Transpose V_r to get the right dimensions\n",
    "\n",
    "# Compute C = U_r * S_r and R = V_r\n",
    "C = U_r@S_r\n",
    "R = V_r\n",
    "# -------------------------------------------\n",
    "\n",
    "\n",
    "# Compute y' = CRx + b\n",
    "y_prime = (C@R)@x+ b\n",
    "\n",
    "print(\"Original y using W:\\n\", y)\n",
    "\n",
    "print(\"y' computed using CR:\\n\", y_prime)\n",
    "\n",
    "\n",
    "print(\"Total parameters of W:\\n\", W.shape[0]* W.shape[1])\n",
    "\n",
    "print(\"Total parameters of C and R :\\n\", C.shape[0]* C.shape[1] + R.shape[0]* R.shape[1])"
   ],
   "id": "8053e498fa4f7570",
   "outputs": [
    {
     "name": "stdout",
     "output_type": "stream",
     "text": [
      "Original y using W:\n",
      " tensor([ 7.2684e+00,  2.3162e+00,  7.7151e+00, -1.0446e+01, -8.1639e-03,\n",
      "        -3.7270e+00, -1.1146e+01,  2.0207e+00, -9.6258e+00, -4.1163e+00])\n",
      "y' computed using CR:\n",
      " tensor([ 7.2684e+00,  2.3162e+00,  7.7151e+00, -1.0446e+01, -8.1638e-03,\n",
      "        -3.7270e+00, -1.1146e+01,  2.0207e+00, -9.6258e+00, -4.1163e+00])\n",
      "Total parameters of W:\n",
      " 100\n",
      "Total parameters of C and R :\n",
      " 40\n"
     ]
    }
   ],
   "execution_count": 5
  }
 ],
 "metadata": {
  "kernelspec": {
   "display_name": "Python 3",
   "language": "python",
   "name": "python3"
  },
  "language_info": {
   "codemirror_mode": {
    "name": "ipython",
    "version": 2
   },
   "file_extension": ".py",
   "mimetype": "text/x-python",
   "name": "python",
   "nbconvert_exporter": "python",
   "pygments_lexer": "ipython2",
   "version": "2.7.6"
  }
 },
 "nbformat": 4,
 "nbformat_minor": 5
}
